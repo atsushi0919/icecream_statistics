{
 "cells": [
  {
   "cell_type": "markdown",
   "id": "edce51dc",
   "metadata": {},
   "source": [
    "## 1.4（応用編）駅からの距離と客数の関係\n",
    "http://kogolab.chillout.jp/elearn/icecream/chap1/sec4.html"
   ]
  },
  {
   "cell_type": "code",
   "execution_count": 1,
   "id": "82c7de9e",
   "metadata": {},
   "outputs": [
    {
     "name": "stderr",
     "output_type": "stream",
     "text": [
      "-- \u001b[1mAttaching packages\u001b[22m --------------------------------------- tidyverse 1.3.1 --\n",
      "\n",
      "\u001b[32mv\u001b[39m \u001b[34mggplot2\u001b[39m 3.3.5     \u001b[32mv\u001b[39m \u001b[34mpurrr  \u001b[39m 0.3.4\n",
      "\u001b[32mv\u001b[39m \u001b[34mtibble \u001b[39m 3.1.5     \u001b[32mv\u001b[39m \u001b[34mdplyr  \u001b[39m 1.0.7\n",
      "\u001b[32mv\u001b[39m \u001b[34mtidyr  \u001b[39m 1.1.4     \u001b[32mv\u001b[39m \u001b[34mstringr\u001b[39m 1.4.0\n",
      "\u001b[32mv\u001b[39m \u001b[34mreadr  \u001b[39m 2.0.2     \u001b[32mv\u001b[39m \u001b[34mforcats\u001b[39m 0.5.1\n",
      "\n",
      "-- \u001b[1mConflicts\u001b[22m ------------------------------------------ tidyverse_conflicts() --\n",
      "\u001b[31mx\u001b[39m \u001b[34mdplyr\u001b[39m::\u001b[32mfilter()\u001b[39m masks \u001b[34mstats\u001b[39m::filter()\n",
      "\u001b[31mx\u001b[39m \u001b[34mdplyr\u001b[39m::\u001b[32mlag()\u001b[39m    masks \u001b[34mstats\u001b[39m::lag()\n",
      "\n"
     ]
    }
   ],
   "source": [
    "library(tidyverse)"
   ]
  },
  {
   "cell_type": "code",
   "execution_count": 7,
   "id": "326af417",
   "metadata": {},
   "outputs": [
    {
     "data": {
      "text/html": [
       "<table class=\"dataframe\">\n",
       "<caption>A spec_tbl_df: 12 × 3</caption>\n",
       "<thead>\n",
       "\t<tr><th scope=col>店舗</th><th scope=col>駅からの距離</th><th scope=col>平均客数</th></tr>\n",
       "\t<tr><th scope=col>&lt;dbl&gt;</th><th scope=col>&lt;dbl&gt;</th><th scope=col>&lt;dbl&gt;</th></tr>\n",
       "</thead>\n",
       "<tbody>\n",
       "\t<tr><td> 1</td><td>  10</td><td>795</td></tr>\n",
       "\t<tr><td> 2</td><td>1200</td><td>213</td></tr>\n",
       "\t<tr><td> 3</td><td> 500</td><td>465</td></tr>\n",
       "\t<tr><td> 4</td><td>  50</td><td>694</td></tr>\n",
       "\t<tr><td> 5</td><td> 740</td><td>403</td></tr>\n",
       "\t<tr><td> 6</td><td>  30</td><td>782</td></tr>\n",
       "\t<tr><td> 7</td><td>  10</td><td>769</td></tr>\n",
       "\t<tr><td> 8</td><td> 360</td><td>561</td></tr>\n",
       "\t<tr><td> 9</td><td> 150</td><td>692</td></tr>\n",
       "\t<tr><td>10</td><td> 930</td><td>361</td></tr>\n",
       "\t<tr><td>11</td><td> 620</td><td>385</td></tr>\n",
       "\t<tr><td>12</td><td>  65</td><td>723</td></tr>\n",
       "</tbody>\n",
       "</table>\n"
      ],
      "text/latex": [
       "A spec\\_tbl\\_df: 12 × 3\n",
       "\\begin{tabular}{lll}\n",
       " 店舗 & 駅からの距離 & 平均客数\\\\\n",
       " <dbl> & <dbl> & <dbl>\\\\\n",
       "\\hline\n",
       "\t  1 &   10 & 795\\\\\n",
       "\t  2 & 1200 & 213\\\\\n",
       "\t  3 &  500 & 465\\\\\n",
       "\t  4 &   50 & 694\\\\\n",
       "\t  5 &  740 & 403\\\\\n",
       "\t  6 &   30 & 782\\\\\n",
       "\t  7 &   10 & 769\\\\\n",
       "\t  8 &  360 & 561\\\\\n",
       "\t  9 &  150 & 692\\\\\n",
       "\t 10 &  930 & 361\\\\\n",
       "\t 11 &  620 & 385\\\\\n",
       "\t 12 &   65 & 723\\\\\n",
       "\\end{tabular}\n"
      ],
      "text/markdown": [
       "\n",
       "A spec_tbl_df: 12 × 3\n",
       "\n",
       "| 店舗 &lt;dbl&gt; | 駅からの距離 &lt;dbl&gt; | 平均客数 &lt;dbl&gt; |\n",
       "|---|---|---|\n",
       "|  1 |   10 | 795 |\n",
       "|  2 | 1200 | 213 |\n",
       "|  3 |  500 | 465 |\n",
       "|  4 |   50 | 694 |\n",
       "|  5 |  740 | 403 |\n",
       "|  6 |   30 | 782 |\n",
       "|  7 |   10 | 769 |\n",
       "|  8 |  360 | 561 |\n",
       "|  9 |  150 | 692 |\n",
       "| 10 |  930 | 361 |\n",
       "| 11 |  620 | 385 |\n",
       "| 12 |   65 | 723 |\n",
       "\n"
      ],
      "text/plain": [
       "   店舗 駅からの距離 平均客数\n",
       "1   1     10         795     \n",
       "2   2   1200         213     \n",
       "3   3    500         465     \n",
       "4   4     50         694     \n",
       "5   5    740         403     \n",
       "6   6     30         782     \n",
       "7   7     10         769     \n",
       "8   8    360         561     \n",
       "9   9    150         692     \n",
       "10 10    930         361     \n",
       "11 11    620         385     \n",
       "12 12     65         723     "
      ]
     },
     "metadata": {},
     "output_type": "display_data"
    }
   ],
   "source": [
    "df <- read_csv(\"01-04.csv\", show_col_types=FALSE)\n",
    "df"
   ]
  },
  {
   "cell_type": "code",
   "execution_count": 20,
   "id": "caac5bdd",
   "metadata": {},
   "outputs": [
    {
     "name": "stderr",
     "output_type": "stream",
     "text": [
      "`geom_smooth()` using formula 'y ~ x'\n",
      "\n"
     ]
    },
    {
     "data": {
      "image/png": "[encoded data removed]",
      "text/plain": [
       "plot without title"
      ]
     },
     "metadata": {
      "image/png": {
       "height": 420,
       "width": 420
      }
     },
     "output_type": "display_data"
    }
   ],
   "source": [
    "# 散布図\n",
    "plot1 <- ggplot(data=df, mapping=aes(x=駅からの距離, y=平均客数)) +\n",
    "    xlim(0, 1250) + ylim(0, 800) +\n",
    "    geom_point(size=4) +\n",
    "    stat_smooth(method=\"lm\", se=FALSE, color=\"red\", size=1) +\n",
    "    labs(title=\"駅からの距離による平均客数\") +\n",
    "    theme(\n",
    "        plot.title=element_text(size=20, hjust=0.5),\n",
    "        axis.title.x=element_text(size = 16),\n",
    "        axis.text.x=element_text(size=12),\n",
    "        axis.title.y=element_text(size = 16),\n",
    "        axis.text.y=element_text(size=12),\n",
    "    ) +\n",
    "    geom_vline(xintercept=250, linetype=\"dashed\")\n",
    "    \n",
    "plot1"
   ]
  },
  {
   "cell_type": "markdown",
   "id": "ae287301",
   "metadata": {},
   "source": [
    "アイちゃんのバイト先は駅から約250mなので、平均客数は600強になることが予想出来る。"
   ]
  }
 ],
 "metadata": {
  "kernelspec": {
   "display_name": "R",
   "language": "R",
   "name": "ir"
  },
  "language_info": {
   "codemirror_mode": "r",
   "file_extension": ".r",
   "mimetype": "text/x-r-source",
   "name": "R",
   "pygments_lexer": "r",
   "version": "4.1.1"
  }
 },
 "nbformat": 4,
 "nbformat_minor": 5
}
