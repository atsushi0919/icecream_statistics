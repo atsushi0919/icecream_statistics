{
 "cells": [
  {
   "cell_type": "markdown",
   "id": "9881642f",
   "metadata": {},
   "source": [
    "## 1.5　通過テスト\n",
    "http://kogolab.chillout.jp/elearn/icecream/chap1/sec5.html"
   ]
  },
  {
   "cell_type": "code",
   "execution_count": 1,
   "id": "82c7de9e",
   "metadata": {},
   "outputs": [
    {
     "name": "stderr",
     "output_type": "stream",
     "text": [
      "-- \u001b[1mAttaching packages\u001b[22m ------------------------------------------------------------------------------- tidyverse 1.3.1 --\n",
      "\n",
      "\u001b[32mv\u001b[39m \u001b[34mggplot2\u001b[39m 3.3.5     \u001b[32mv\u001b[39m \u001b[34mpurrr  \u001b[39m 0.3.4\n",
      "\u001b[32mv\u001b[39m \u001b[34mtibble \u001b[39m 3.1.5     \u001b[32mv\u001b[39m \u001b[34mdplyr  \u001b[39m 1.0.7\n",
      "\u001b[32mv\u001b[39m \u001b[34mtidyr  \u001b[39m 1.1.4     \u001b[32mv\u001b[39m \u001b[34mstringr\u001b[39m 1.4.0\n",
      "\u001b[32mv\u001b[39m \u001b[34mreadr  \u001b[39m 2.0.2     \u001b[32mv\u001b[39m \u001b[34mforcats\u001b[39m 0.5.1\n",
      "\n",
      "-- \u001b[1mConflicts\u001b[22m ---------------------------------------------------------------------------------- tidyverse_conflicts() --\n",
      "\u001b[31mx\u001b[39m \u001b[34mdplyr\u001b[39m::\u001b[32mfilter()\u001b[39m masks \u001b[34mstats\u001b[39m::filter()\n",
      "\u001b[31mx\u001b[39m \u001b[34mdplyr\u001b[39m::\u001b[32mlag()\u001b[39m    masks \u001b[34mstats\u001b[39m::lag()\n",
      "\n"
     ]
    }
   ],
   "source": [
    "library(tidyverse)"
   ]
  },
  {
   "cell_type": "code",
   "execution_count": 2,
   "id": "326af417",
   "metadata": {},
   "outputs": [
    {
     "data": {
      "text/html": [
       "<table class=\"dataframe\">\n",
       "<caption>A spec_tbl_df: 19 × 3</caption>\n",
       "<thead>\n",
       "\t<tr><th scope=col>学生</th><th scope=col>入学試験の点数</th><th scope=col>学業成績</th></tr>\n",
       "\t<tr><th scope=col>&lt;dbl&gt;</th><th scope=col>&lt;dbl&gt;</th><th scope=col>&lt;dbl&gt;</th></tr>\n",
       "</thead>\n",
       "<tbody>\n",
       "\t<tr><td> 1</td><td>440</td><td>1.57</td></tr>\n",
       "\t<tr><td> 2</td><td>448</td><td>1.83</td></tr>\n",
       "\t<tr><td> 3</td><td>455</td><td>2.05</td></tr>\n",
       "\t<tr><td> 4</td><td>460</td><td>1.14</td></tr>\n",
       "\t<tr><td> 5</td><td>473</td><td>2.73</td></tr>\n",
       "\t<tr><td> 6</td><td>485</td><td>1.65</td></tr>\n",
       "\t<tr><td> 7</td><td>489</td><td>2.02</td></tr>\n",
       "\t<tr><td> 8</td><td>500</td><td>2.98</td></tr>\n",
       "\t<tr><td> 9</td><td>512</td><td>1.79</td></tr>\n",
       "\t<tr><td>10</td><td>518</td><td>2.63</td></tr>\n",
       "\t<tr><td>11</td><td>528</td><td>2.08</td></tr>\n",
       "\t<tr><td>12</td><td>550</td><td>2.15</td></tr>\n",
       "\t<tr><td>13</td><td>582</td><td>3.44</td></tr>\n",
       "\t<tr><td>14</td><td>569</td><td>3.05</td></tr>\n",
       "\t<tr><td>15</td><td>585</td><td>3.19</td></tr>\n",
       "\t<tr><td>16</td><td>593</td><td>3.42</td></tr>\n",
       "\t<tr><td>17</td><td>620</td><td>3.87</td></tr>\n",
       "\t<tr><td>18</td><td>650</td><td>3.00</td></tr>\n",
       "\t<tr><td>19</td><td>690</td><td>3.12</td></tr>\n",
       "</tbody>\n",
       "</table>\n"
      ],
      "text/latex": [
       "A spec\\_tbl\\_df: 19 × 3\n",
       "\\begin{tabular}{lll}\n",
       " 学生 & 入学試験の点数 & 学業成績\\\\\n",
       " <dbl> & <dbl> & <dbl>\\\\\n",
       "\\hline\n",
       "\t  1 & 440 & 1.57\\\\\n",
       "\t  2 & 448 & 1.83\\\\\n",
       "\t  3 & 455 & 2.05\\\\\n",
       "\t  4 & 460 & 1.14\\\\\n",
       "\t  5 & 473 & 2.73\\\\\n",
       "\t  6 & 485 & 1.65\\\\\n",
       "\t  7 & 489 & 2.02\\\\\n",
       "\t  8 & 500 & 2.98\\\\\n",
       "\t  9 & 512 & 1.79\\\\\n",
       "\t 10 & 518 & 2.63\\\\\n",
       "\t 11 & 528 & 2.08\\\\\n",
       "\t 12 & 550 & 2.15\\\\\n",
       "\t 13 & 582 & 3.44\\\\\n",
       "\t 14 & 569 & 3.05\\\\\n",
       "\t 15 & 585 & 3.19\\\\\n",
       "\t 16 & 593 & 3.42\\\\\n",
       "\t 17 & 620 & 3.87\\\\\n",
       "\t 18 & 650 & 3.00\\\\\n",
       "\t 19 & 690 & 3.12\\\\\n",
       "\\end{tabular}\n"
      ],
      "text/markdown": [
       "\n",
       "A spec_tbl_df: 19 × 3\n",
       "\n",
       "| 学生 &lt;dbl&gt; | 入学試験の点数 &lt;dbl&gt; | 学業成績 &lt;dbl&gt; |\n",
       "|---|---|---|\n",
       "|  1 | 440 | 1.57 |\n",
       "|  2 | 448 | 1.83 |\n",
       "|  3 | 455 | 2.05 |\n",
       "|  4 | 460 | 1.14 |\n",
       "|  5 | 473 | 2.73 |\n",
       "|  6 | 485 | 1.65 |\n",
       "|  7 | 489 | 2.02 |\n",
       "|  8 | 500 | 2.98 |\n",
       "|  9 | 512 | 1.79 |\n",
       "| 10 | 518 | 2.63 |\n",
       "| 11 | 528 | 2.08 |\n",
       "| 12 | 550 | 2.15 |\n",
       "| 13 | 582 | 3.44 |\n",
       "| 14 | 569 | 3.05 |\n",
       "| 15 | 585 | 3.19 |\n",
       "| 16 | 593 | 3.42 |\n",
       "| 17 | 620 | 3.87 |\n",
       "| 18 | 650 | 3.00 |\n",
       "| 19 | 690 | 3.12 |\n",
       "\n"
      ],
      "text/plain": [
       "   学生 入学試験の点数 学業成績\n",
       "1   1   440            1.57    \n",
       "2   2   448            1.83    \n",
       "3   3   455            2.05    \n",
       "4   4   460            1.14    \n",
       "5   5   473            2.73    \n",
       "6   6   485            1.65    \n",
       "7   7   489            2.02    \n",
       "8   8   500            2.98    \n",
       "9   9   512            1.79    \n",
       "10 10   518            2.63    \n",
       "11 11   528            2.08    \n",
       "12 12   550            2.15    \n",
       "13 13   582            3.44    \n",
       "14 14   569            3.05    \n",
       "15 15   585            3.19    \n",
       "16 16   593            3.42    \n",
       "17 17   620            3.87    \n",
       "18 18   650            3.00    \n",
       "19 19   690            3.12    "
      ]
     },
     "metadata": {},
     "output_type": "display_data"
    }
   ],
   "source": [
    "df <- read_csv(\"01-05.csv\", show_col_types=FALSE)\n",
    "df"
   ]
  },
  {
   "cell_type": "code",
   "execution_count": 3,
   "id": "caac5bdd",
   "metadata": {},
   "outputs": [
    {
     "name": "stderr",
     "output_type": "stream",
     "text": [
      "`geom_smooth()` using formula 'y ~ x'\n",
      "\n"
     ]
    },
    {
     "data": {
      "image/png": "[encoded data removed]",
      "text/plain": [
       "plot without title"
      ]
     },
     "metadata": {
      "image/png": {
       "height": 420,
       "width": 420
      }
     },
     "output_type": "display_data"
    }
   ],
   "source": [
    "# 散布図\n",
    "plot1 <- ggplot(data=df, mapping=aes(x=入学試験の点数, y=学業成績)) +\n",
    "    xlim(400, 700) + ylim(0, 4) +\n",
    "    geom_point(size=4) +\n",
    "    stat_smooth(method=\"lm\", se=FALSE, color=\"red\", size=1) +\n",
    "    labs(title=\"入学試験の点数と学業成績の関係\") +\n",
    "    theme(\n",
    "        plot.title=element_text(size=20, hjust=0.5),\n",
    "        axis.title.x=element_text(size = 16),\n",
    "        axis.text.x=element_text(size=12),\n",
    "        axis.title.y=element_text(size = 16),\n",
    "        axis.text.y=element_text(size=12),\n",
    "    )\n",
    "    \n",
    "plot1"
   ]
  },
  {
   "cell_type": "markdown",
   "id": "6615350b",
   "metadata": {},
   "source": [
    "## 相関係数を求める\n",
    "\n",
    "### 平方和\n",
    "$\n",
    "\\ \\ \\ \\ S_x=\\sum{x_i^2}-\\frac{(\\sum{x_i})^2}{n}\\\\\n",
    "\\ \\ \\ \\ S_y=\\sum{y_i^2}-\\frac{(\\sum{y_i})^2}{n}\\\\\n",
    "\\ \\ \\ \\ S_{xy}=\\sum{x_iy_i}-\\frac{\\sum{x_i}\\sum{y_i}}{n}\n",
    "$\n",
    "\n",
    "### 相関係数\n",
    "$\n",
    "\\ \\ \\ \\ r=\\frac{S_{xy}}{\\sqrt{S_x}\\sqrt{S_y}}\n",
    "=\\frac{\\sum{(x_i-\\bar{x})\\sum{(y_i-\\bar{y})}}}{\\sqrt{\\sum{(x_i-\\bar{x})^2}}\\sqrt{\\sum{(y_i-\\bar{y})^2}}}\\\\\n",
    "$"
   ]
  },
  {
   "cell_type": "code",
   "execution_count": 4,
   "id": "7ca89120",
   "metadata": {},
   "outputs": [
    {
     "name": "stdout",
     "output_type": "stream",
     "text": [
      "Sx : 93082.95 \n",
      "Sy : 10.43958 \n",
      "Sxy: 750.9589 \n",
      "r1 : 0.7617977 \n",
      "--------------\n",
      "r2 : 0.7617977 \n"
     ]
    },
    {
     "data": {
      "text/plain": [
       "\n",
       "\tPearson's product-moment correlation\n",
       "\n",
       "data:  unlist(df[\"入学試験の点数\"]) and unlist(df[\"学業成績\"])\n",
       "t = 4.8486, df = 17, p-value = 0.0001506\n",
       "alternative hypothesis: true correlation is not equal to 0\n",
       "95 percent confidence interval:\n",
       " 0.4703298 0.9034122\n",
       "sample estimates:\n",
       "      cor \n",
       "0.7617977 \n"
      ]
     },
     "metadata": {},
     "output_type": "display_data"
    }
   ],
   "source": [
    "# 計算で相関係数を求める\n",
    "n <- nrow(df)\n",
    "s_x <- sum(df[\"入学試験の点数\"] ** 2) - sum(df[\"入学試験の点数\"]) ** 2 / n\n",
    "s_y <- sum(df[\"学業成績\"] ** 2) - sum(df[\"学業成績\"]) ** 2 / n\n",
    "sxy <- sum(df[\"入学試験の点数\"] * df[\"学業成績\"]) - sum(df[\"入学試験の点数\"]) * sum(df[\"学業成績\"]) / n\n",
    "r1 <- sxy / (sqrt(s_x) * sqrt(s_y))\n",
    "cat(\"Sx :\", s_x, \"\\n\")\n",
    "cat(\"Sy :\", s_y, \"\\n\")\n",
    "cat(\"Sxy:\", sxy, \"\\n\")\n",
    "cat(\"r1 :\", r1, \"\\n\")\n",
    "cat(\"--------------\\n\")\n",
    "\n",
    "# cor()関数で相関係数を求める\n",
    "r2 <- cor(df[\"入学試験の点数\"], df[\"学業成績\"], method=\"pearson\")\n",
    "cat(\"r2 :\", r2, \"\\n\")\n",
    "\n",
    "# cor.test()関数で相関係数に関する検定を行う\n",
    "cor.test(unlist(df[\"入学試験の点数\"]), unlist(df[\"学業成績\"]), method=\"pearson\")"
   ]
  },
  {
   "cell_type": "markdown",
   "id": "af1fa634",
   "metadata": {},
   "source": [
    "生徒の入学試験の点数と学業成績の相関分析を行ったところ、相関係数0.762で強い正の相関が認められた(r = 0.762, p < 0.05)"
   ]
  }
 ],
 "metadata": {
  "kernelspec": {
   "display_name": "R",
   "language": "R",
   "name": "ir"
  },
  "language_info": {
   "codemirror_mode": "r",
   "file_extension": ".r",
   "mimetype": "text/x-r-source",
   "name": "R",
   "pygments_lexer": "r",
   "version": "4.1.1"
  }
 },
 "nbformat": 4,
 "nbformat_minor": 5
}
